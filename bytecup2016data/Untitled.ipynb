{
 "cells": [
  {
   "cell_type": "code",
   "execution_count": 1,
   "metadata": {
    "collapsed": true
   },
   "outputs": [],
   "source": [
    "import numpy as np\n",
    "import graphlab as gl"
   ]
  },
  {
   "cell_type": "code",
   "execution_count": 2,
   "metadata": {
    "collapsed": false
   },
   "outputs": [
    {
     "name": "stderr",
     "output_type": "stream",
     "text": [
      "[INFO] graphlab.cython.cy_server: GraphLab Create v2.1 started. Logging: /tmp/graphlab_server_1479260998.log\n"
     ]
    },
    {
     "name": "stdout",
     "output_type": "stream",
     "text": [
      "This non-commercial license of GraphLab Create for academic use is assigned to roohy7@yahoo.com and will expire on November 15, 2017.\n"
     ]
    },
    {
     "data": {
      "text/html": [
       "<pre>Finished parsing file /Users/Roohy/PycharmProjects/project/bytecup2016data/sfuser_info.txt</pre>"
      ],
      "text/plain": [
       "Finished parsing file /Users/Roohy/PycharmProjects/project/bytecup2016data/sfuser_info.txt"
      ]
     },
     "metadata": {},
     "output_type": "display_data"
    },
    {
     "data": {
      "text/html": [
       "<pre>Parsing completed. Parsed 100 lines in 0.080748 secs.</pre>"
      ],
      "text/plain": [
       "Parsing completed. Parsed 100 lines in 0.080748 secs."
      ]
     },
     "metadata": {},
     "output_type": "display_data"
    },
    {
     "name": "stdout",
     "output_type": "stream",
     "text": [
      "------------------------------------------------------\n",
      "Inferred types from first 100 line(s) of file as \n",
      "column_type_hints=[str,str,str,str]\n",
      "If parsing fails due to incorrect types, you can correct\n",
      "the inferred type list above and pass it to read_csv in\n",
      "the column_type_hints argument\n",
      "------------------------------------------------------\n"
     ]
    },
    {
     "data": {
      "text/html": [
       "<pre>Finished parsing file /Users/Roohy/PycharmProjects/project/bytecup2016data/sfuser_info.txt</pre>"
      ],
      "text/plain": [
       "Finished parsing file /Users/Roohy/PycharmProjects/project/bytecup2016data/sfuser_info.txt"
      ]
     },
     "metadata": {},
     "output_type": "display_data"
    },
    {
     "data": {
      "text/html": [
       "<pre>Parsing completed. Parsed 28763 lines in 0.103005 secs.</pre>"
      ],
      "text/plain": [
       "Parsing completed. Parsed 28763 lines in 0.103005 secs."
      ]
     },
     "metadata": {},
     "output_type": "display_data"
    }
   ],
   "source": [
    "usf = gl.SFrame(data='./sfuser_info.txt',format='tsv')"
   ]
  },
  {
   "cell_type": "code",
   "execution_count": 3,
   "metadata": {
    "collapsed": false
   },
   "outputs": [
    {
     "data": {
      "text/html": [
       "<pre>Finished parsing file /Users/Roohy/PycharmProjects/project/bytecup2016data/sfquestion_info.txt</pre>"
      ],
      "text/plain": [
       "Finished parsing file /Users/Roohy/PycharmProjects/project/bytecup2016data/sfquestion_info.txt"
      ]
     },
     "metadata": {},
     "output_type": "display_data"
    },
    {
     "data": {
      "text/html": [
       "<pre>Parsing completed. Parsed 100 lines in 0.036164 secs.</pre>"
      ],
      "text/plain": [
       "Parsing completed. Parsed 100 lines in 0.036164 secs."
      ]
     },
     "metadata": {},
     "output_type": "display_data"
    },
    {
     "name": "stdout",
     "output_type": "stream",
     "text": [
      "------------------------------------------------------\n",
      "Inferred types from first 100 line(s) of file as \n",
      "column_type_hints=[str,int,str,str,int,int,int]\n",
      "If parsing fails due to incorrect types, you can correct\n",
      "the inferred type list above and pass it to read_csv in\n",
      "the column_type_hints argument\n",
      "------------------------------------------------------\n"
     ]
    },
    {
     "data": {
      "text/html": [
       "<pre>Finished parsing file /Users/Roohy/PycharmProjects/project/bytecup2016data/sfquestion_info.txt</pre>"
      ],
      "text/plain": [
       "Finished parsing file /Users/Roohy/PycharmProjects/project/bytecup2016data/sfquestion_info.txt"
      ]
     },
     "metadata": {},
     "output_type": "display_data"
    },
    {
     "data": {
      "text/html": [
       "<pre>Parsing completed. Parsed 8095 lines in 0.028144 secs.</pre>"
      ],
      "text/plain": [
       "Parsing completed. Parsed 8095 lines in 0.028144 secs."
      ]
     },
     "metadata": {},
     "output_type": "display_data"
    }
   ],
   "source": [
    "qsf = gl.SFrame(data='./sfquestion_info.txt',format='tsv')"
   ]
  },
  {
   "cell_type": "code",
   "execution_count": 4,
   "metadata": {
    "collapsed": false
   },
   "outputs": [
    {
     "data": {
      "text/html": [
       "<pre>Finished parsing file /Users/Roohy/PycharmProjects/project/bytecup2016data/sfinvited_info_train.txt</pre>"
      ],
      "text/plain": [
       "Finished parsing file /Users/Roohy/PycharmProjects/project/bytecup2016data/sfinvited_info_train.txt"
      ]
     },
     "metadata": {},
     "output_type": "display_data"
    },
    {
     "data": {
      "text/html": [
       "<pre>Parsing completed. Parsed 100 lines in 0.260792 secs.</pre>"
      ],
      "text/plain": [
       "Parsing completed. Parsed 100 lines in 0.260792 secs."
      ]
     },
     "metadata": {},
     "output_type": "display_data"
    },
    {
     "name": "stdout",
     "output_type": "stream",
     "text": [
      "------------------------------------------------------\n",
      "Inferred types from first 100 line(s) of file as \n",
      "column_type_hints=[str,str,int]\n",
      "If parsing fails due to incorrect types, you can correct\n",
      "the inferred type list above and pass it to read_csv in\n",
      "the column_type_hints argument\n",
      "------------------------------------------------------\n"
     ]
    },
    {
     "data": {
      "text/html": [
       "<pre>Finished parsing file /Users/Roohy/PycharmProjects/project/bytecup2016data/sfinvited_info_train.txt</pre>"
      ],
      "text/plain": [
       "Finished parsing file /Users/Roohy/PycharmProjects/project/bytecup2016data/sfinvited_info_train.txt"
      ]
     },
     "metadata": {},
     "output_type": "display_data"
    },
    {
     "data": {
      "text/html": [
       "<pre>Parsing completed. Parsed 245752 lines in 0.37507 secs.</pre>"
      ],
      "text/plain": [
       "Parsing completed. Parsed 245752 lines in 0.37507 secs."
      ]
     },
     "metadata": {},
     "output_type": "display_data"
    }
   ],
   "source": [
    "tsf = gl.SFrame(data='./sfinvited_info_train.txt',format='tsv')"
   ]
  },
  {
   "cell_type": "code",
   "execution_count": 5,
   "metadata": {
    "collapsed": false
   },
   "outputs": [
    {
     "data": {
      "text/html": [
       "<div style=\"max-height:1000px;max-width:1500px;overflow:auto;\"><table frame=\"box\" rules=\"cols\">\n",
       "    <tr>\n",
       "        <th style=\"padding-left: 1em; padding-right: 1em; text-align: center\">qid</th>\n",
       "        <th style=\"padding-left: 1em; padding-right: 1em; text-align: center\">uid</th>\n",
       "        <th style=\"padding-left: 1em; padding-right: 1em; text-align: center\">value</th>\n",
       "    </tr>\n",
       "    <tr>\n",
       "        <td style=\"padding-left: 1em; padding-right: 1em; text-align: center; vertical-align: top\">1c525c9d44135bdc40ddd4b8d<br>63738d8 ...</td>\n",
       "        <td style=\"padding-left: 1em; padding-right: 1em; text-align: center; vertical-align: top\">e6a2ecac7f90d426103de95ba<br>7f6d2b0 ...</td>\n",
       "        <td style=\"padding-left: 1em; padding-right: 1em; text-align: center; vertical-align: top\">0</td>\n",
       "    </tr>\n",
       "    <tr>\n",
       "        <td style=\"padding-left: 1em; padding-right: 1em; text-align: center; vertical-align: top\">43c525e69431f916efcf8d09d<br>99602ac ...</td>\n",
       "        <td style=\"padding-left: 1em; padding-right: 1em; text-align: center; vertical-align: top\">64e1c3152b0ad8ab1a3b6bbda<br>5d2bbe8 ...</td>\n",
       "        <td style=\"padding-left: 1em; padding-right: 1em; text-align: center; vertical-align: top\">1</td>\n",
       "    </tr>\n",
       "    <tr>\n",
       "        <td style=\"padding-left: 1em; padding-right: 1em; text-align: center; vertical-align: top\">e1a1009e93ea09bdd981029b5<br>92d89b8 ...</td>\n",
       "        <td style=\"padding-left: 1em; padding-right: 1em; text-align: center; vertical-align: top\">405c2c59eb73d115b5d73d0d0<br>cfc9c94 ...</td>\n",
       "        <td style=\"padding-left: 1em; padding-right: 1em; text-align: center; vertical-align: top\">0</td>\n",
       "    </tr>\n",
       "    <tr>\n",
       "        <td style=\"padding-left: 1em; padding-right: 1em; text-align: center; vertical-align: top\">60f19c960a9300aabaf95ea49<br>a9fe4c2 ...</td>\n",
       "        <td style=\"padding-left: 1em; padding-right: 1em; text-align: center; vertical-align: top\">11ccc1bae27f606616070eca1<br>2441ffb ...</td>\n",
       "        <td style=\"padding-left: 1em; padding-right: 1em; text-align: center; vertical-align: top\">0</td>\n",
       "    </tr>\n",
       "    <tr>\n",
       "        <td style=\"padding-left: 1em; padding-right: 1em; text-align: center; vertical-align: top\">cb8f85a79be9cd9aae3af4a30<br>2b865a6 ...</td>\n",
       "        <td style=\"padding-left: 1em; padding-right: 1em; text-align: center; vertical-align: top\">628b7aa38efb4c1ce999fe5cd<br>f46a03e ...</td>\n",
       "        <td style=\"padding-left: 1em; padding-right: 1em; text-align: center; vertical-align: top\">0</td>\n",
       "    </tr>\n",
       "    <tr>\n",
       "        <td style=\"padding-left: 1em; padding-right: 1em; text-align: center; vertical-align: top\">51f87230b588bde394167c5f5<br>189570b ...</td>\n",
       "        <td style=\"padding-left: 1em; padding-right: 1em; text-align: center; vertical-align: top\">7476aa28bb582c0ff10172f7e<br>5773dba ...</td>\n",
       "        <td style=\"padding-left: 1em; padding-right: 1em; text-align: center; vertical-align: top\">0</td>\n",
       "    </tr>\n",
       "    <tr>\n",
       "        <td style=\"padding-left: 1em; padding-right: 1em; text-align: center; vertical-align: top\">2c8114aa8218d3499b70e2d74<br>e795380 ...</td>\n",
       "        <td style=\"padding-left: 1em; padding-right: 1em; text-align: center; vertical-align: top\">bd8044d8f3f9c3cff6c9fa51b<br>20c1c4d ...</td>\n",
       "        <td style=\"padding-left: 1em; padding-right: 1em; text-align: center; vertical-align: top\">0</td>\n",
       "    </tr>\n",
       "    <tr>\n",
       "        <td style=\"padding-left: 1em; padding-right: 1em; text-align: center; vertical-align: top\">6928456febe78441e4df6dfcb<br>fabfe73 ...</td>\n",
       "        <td style=\"padding-left: 1em; padding-right: 1em; text-align: center; vertical-align: top\">362a43a6750a835a33a3fbc19<br>fc6a5db ...</td>\n",
       "        <td style=\"padding-left: 1em; padding-right: 1em; text-align: center; vertical-align: top\">0</td>\n",
       "    </tr>\n",
       "    <tr>\n",
       "        <td style=\"padding-left: 1em; padding-right: 1em; text-align: center; vertical-align: top\">e888f91bd5d4710599cf217ee<br>69dbdd6 ...</td>\n",
       "        <td style=\"padding-left: 1em; padding-right: 1em; text-align: center; vertical-align: top\">acfde6daece350084e3a77e98<br>972f2fb ...</td>\n",
       "        <td style=\"padding-left: 1em; padding-right: 1em; text-align: center; vertical-align: top\">0</td>\n",
       "    </tr>\n",
       "    <tr>\n",
       "        <td style=\"padding-left: 1em; padding-right: 1em; text-align: center; vertical-align: top\">400d208277095f149bbbd2f5d<br>c45b501 ...</td>\n",
       "        <td style=\"padding-left: 1em; padding-right: 1em; text-align: center; vertical-align: top\">9de7878db83d8799c37df99a5<br>0129d58 ...</td>\n",
       "        <td style=\"padding-left: 1em; padding-right: 1em; text-align: center; vertical-align: top\">0</td>\n",
       "    </tr>\n",
       "</table>\n",
       "[245752 rows x 3 columns]<br/>Note: Only the head of the SFrame is printed.<br/>You can use print_rows(num_rows=m, num_columns=n) to print more rows and columns.\n",
       "</div>"
      ],
      "text/plain": [
       "Columns:\n",
       "\tqid\tstr\n",
       "\tuid\tstr\n",
       "\tvalue\tint\n",
       "\n",
       "Rows: 245752\n",
       "\n",
       "Data:\n",
       "+-------------------------------+-------------------------------+-------+\n",
       "|              qid              |              uid              | value |\n",
       "+-------------------------------+-------------------------------+-------+\n",
       "| 1c525c9d44135bdc40ddd4b8d6... | e6a2ecac7f90d426103de95ba7... |   0   |\n",
       "| 43c525e69431f916efcf8d09d9... | 64e1c3152b0ad8ab1a3b6bbda5... |   1   |\n",
       "| e1a1009e93ea09bdd981029b59... | 405c2c59eb73d115b5d73d0d0c... |   0   |\n",
       "| 60f19c960a9300aabaf95ea49a... | 11ccc1bae27f606616070eca12... |   0   |\n",
       "| cb8f85a79be9cd9aae3af4a302... | 628b7aa38efb4c1ce999fe5cdf... |   0   |\n",
       "| 51f87230b588bde394167c5f51... | 7476aa28bb582c0ff10172f7e5... |   0   |\n",
       "| 2c8114aa8218d3499b70e2d74e... | bd8044d8f3f9c3cff6c9fa51b2... |   0   |\n",
       "| 6928456febe78441e4df6dfcbf... | 362a43a6750a835a33a3fbc19f... |   0   |\n",
       "| e888f91bd5d4710599cf217ee6... | acfde6daece350084e3a77e989... |   0   |\n",
       "| 400d208277095f149bbbd2f5dc... | 9de7878db83d8799c37df99a50... |   0   |\n",
       "+-------------------------------+-------------------------------+-------+\n",
       "[245752 rows x 3 columns]\n",
       "Note: Only the head of the SFrame is printed.\n",
       "You can use print_rows(num_rows=m, num_columns=n) to print more rows and columns."
      ]
     },
     "execution_count": 5,
     "metadata": {},
     "output_type": "execute_result"
    }
   ],
   "source": [
    "tsf"
   ]
  },
  {
   "cell_type": "code",
   "execution_count": 6,
   "metadata": {
    "collapsed": false
   },
   "outputs": [
    {
     "data": {
      "text/html": [
       "<pre>Finished parsing file /Users/Roohy/PycharmProjects/project/bytecup2016data/sfvalidate_nolabel.txt</pre>"
      ],
      "text/plain": [
       "Finished parsing file /Users/Roohy/PycharmProjects/project/bytecup2016data/sfvalidate_nolabel.txt"
      ]
     },
     "metadata": {},
     "output_type": "display_data"
    },
    {
     "data": {
      "text/html": [
       "<pre>Parsing completed. Parsed 100 lines in 0.043612 secs.</pre>"
      ],
      "text/plain": [
       "Parsing completed. Parsed 100 lines in 0.043612 secs."
      ]
     },
     "metadata": {},
     "output_type": "display_data"
    },
    {
     "name": "stdout",
     "output_type": "stream",
     "text": [
      "------------------------------------------------------\n",
      "Inferred types from first 100 line(s) of file as \n",
      "column_type_hints=[str,str]\n",
      "If parsing fails due to incorrect types, you can correct\n",
      "the inferred type list above and pass it to read_csv in\n",
      "the column_type_hints argument\n",
      "------------------------------------------------------\n"
     ]
    },
    {
     "data": {
      "text/html": [
       "<pre>Finished parsing file /Users/Roohy/PycharmProjects/project/bytecup2016data/sfvalidate_nolabel.txt</pre>"
      ],
      "text/plain": [
       "Finished parsing file /Users/Roohy/PycharmProjects/project/bytecup2016data/sfvalidate_nolabel.txt"
      ]
     },
     "metadata": {},
     "output_type": "display_data"
    },
    {
     "data": {
      "text/html": [
       "<pre>Parsing completed. Parsed 30466 lines in 0.046847 secs.</pre>"
      ],
      "text/plain": [
       "Parsing completed. Parsed 30466 lines in 0.046847 secs."
      ]
     },
     "metadata": {},
     "output_type": "display_data"
    }
   ],
   "source": [
    "testsf = gl.SFrame('sfvalidate_nolabel.txt',format='csv')"
   ]
  },
  {
   "cell_type": "code",
   "execution_count": 7,
   "metadata": {
    "collapsed": false
   },
   "outputs": [
    {
     "data": {
      "text/html": [
       "<div style=\"max-height:1000px;max-width:1500px;overflow:auto;\"><table frame=\"box\" rules=\"cols\">\n",
       "    <tr>\n",
       "        <th style=\"padding-left: 1em; padding-right: 1em; text-align: center\">uid</th>\n",
       "        <th style=\"padding-left: 1em; padding-right: 1em; text-align: center\">tags</th>\n",
       "        <th style=\"padding-left: 1em; padding-right: 1em; text-align: center\">words</th>\n",
       "        <th style=\"padding-left: 1em; padding-right: 1em; text-align: center\">letters</th>\n",
       "    </tr>\n",
       "    <tr>\n",
       "        <td style=\"padding-left: 1em; padding-right: 1em; text-align: center; vertical-align: top\">61fa06d8908d0e4710a599f97<br>0f0ab5a ...</td>\n",
       "        <td style=\"padding-left: 1em; padding-right: 1em; text-align: center; vertical-align: top\">0/1</td>\n",
       "        <td style=\"padding-left: 1em; padding-right: 1em; text-align: center; vertical-align: top\">2327/1083/1083/344/3584/1<br>634 ...</td>\n",
       "        <td style=\"padding-left: 1em; padding-right: 1em; text-align: center; vertical-align: top\">608/182/441/182/441/441/4<br>42/263/158/141/878 ...</td>\n",
       "    </tr>\n",
       "    <tr>\n",
       "        <td style=\"padding-left: 1em; padding-right: 1em; text-align: center; vertical-align: top\">4588a1df2461674252ff01c63<br>b59171a ...</td>\n",
       "        <td style=\"padding-left: 1em; padding-right: 1em; text-align: center; vertical-align: top\">2/3/4/5/6</td>\n",
       "        <td style=\"padding-left: 1em; padding-right: 1em; text-align: center; vertical-align: top\">54/11880/113/13231/13232/<br>113/8864/444/7404 ...</td>\n",
       "        <td style=\"padding-left: 1em; padding-right: 1em; text-align: center; vertical-align: top\">92/93/160/160/183/1022/10<br>22/183/732/732/183/14 ...</td>\n",
       "    </tr>\n",
       "    <tr>\n",
       "        <td style=\"padding-left: 1em; padding-right: 1em; text-align: center; vertical-align: top\">e8a0f6906978da77dab3d1d77<br>9bf2904 ...</td>\n",
       "        <td style=\"padding-left: 1em; padding-right: 1em; text-align: center; vertical-align: top\">7</td>\n",
       "        <td style=\"padding-left: 1em; padding-right: 1em; text-align: center; vertical-align: top\">45/13233/1871/13234/2182/<br>3754/444/2644 ...</td>\n",
       "        <td style=\"padding-left: 1em; padding-right: 1em; text-align: center; vertical-align: top\">73/953/15/291/182/168/438<br>/1474/107/377/11/1002 ...</td>\n",
       "    </tr>\n",
       "    <tr>\n",
       "        <td style=\"padding-left: 1em; padding-right: 1em; text-align: center; vertical-align: top\">ab01652daaa15bcbbb21b7c02<br>a8f3646 ...</td>\n",
       "        <td style=\"padding-left: 1em; padding-right: 1em; text-align: center; vertical-align: top\">8</td>\n",
       "        <td style=\"padding-left: 1em; padding-right: 1em; text-align: center; vertical-align: top\">76/13235/2149/13236</td>\n",
       "        <td style=\"padding-left: 1em; padding-right: 1em; text-align: center; vertical-align: top\">122/129/1571/1837/749/68/<br>300/1481/354 ...</td>\n",
       "    </tr>\n",
       "    <tr>\n",
       "        <td style=\"padding-left: 1em; padding-right: 1em; text-align: center; vertical-align: top\">4c3694faef04ea6cce28d9d83<br>8fc3dda ...</td>\n",
       "        <td style=\"padding-left: 1em; padding-right: 1em; text-align: center; vertical-align: top\">9/10/11/12</td>\n",
       "        <td style=\"padding-left: 1em; padding-right: 1em; text-align: center; vertical-align: top\">9465/1492/1734/13237</td>\n",
       "        <td style=\"padding-left: 1em; padding-right: 1em; text-align: center; vertical-align: top\">93/1289/232/305/646/345</td>\n",
       "    </tr>\n",
       "    <tr>\n",
       "        <td style=\"padding-left: 1em; padding-right: 1em; text-align: center; vertical-align: top\">de5ee6f16417420e8c6825061<br>bbf1a83 ...</td>\n",
       "        <td style=\"padding-left: 1em; padding-right: 1em; text-align: center; vertical-align: top\">13/14/15/16</td>\n",
       "        <td style=\"padding-left: 1em; padding-right: 1em; text-align: center; vertical-align: top\">13238/574/6218/574/13239/<br>574/3396 ...</td>\n",
       "        <td style=\"padding-left: 1em; padding-right: 1em; text-align: center; vertical-align: top\">650/2215/86/650/572/488/6<br>50/529 ...</td>\n",
       "    </tr>\n",
       "    <tr>\n",
       "        <td style=\"padding-left: 1em; padding-right: 1em; text-align: center; vertical-align: top\">1942ce13dc97f455b9a477818<br>ede2b45 ...</td>\n",
       "        <td style=\"padding-left: 1em; padding-right: 1em; text-align: center; vertical-align: top\">2/3/4/17</td>\n",
       "        <td style=\"padding-left: 1em; padding-right: 1em; text-align: center; vertical-align: top\">238/6072/2816/13240</td>\n",
       "        <td style=\"padding-left: 1em; padding-right: 1em; text-align: center; vertical-align: top\">68/80/142/49/413/246/422/<br>61/232/532 ...</td>\n",
       "    </tr>\n",
       "    <tr>\n",
       "        <td style=\"padding-left: 1em; padding-right: 1em; text-align: center; vertical-align: top\">051f10227083374795feec803<br>e1421f5 ...</td>\n",
       "        <td style=\"padding-left: 1em; padding-right: 1em; text-align: center; vertical-align: top\">18/19/20</td>\n",
       "        <td style=\"padding-left: 1em; padding-right: 1em; text-align: center; vertical-align: top\">7034/21/4977/2752/3027/15<br>00/501/1373/11585/312 ...</td>\n",
       "        <td style=\"padding-left: 1em; padding-right: 1em; text-align: center; vertical-align: top\">296/291/33/34/1198/453/60<br>/36/453/638/34/1198/1 ...</td>\n",
       "    </tr>\n",
       "    <tr>\n",
       "        <td style=\"padding-left: 1em; padding-right: 1em; text-align: center; vertical-align: top\">8f23f2630ad7656cb08a412ed<br>e813fe6 ...</td>\n",
       "        <td style=\"padding-left: 1em; padding-right: 1em; text-align: center; vertical-align: top\">0/1</td>\n",
       "        <td style=\"padding-left: 1em; padding-right: 1em; text-align: center; vertical-align: top\">3344/238/13244/13245/1324<br>6 ...</td>\n",
       "        <td style=\"padding-left: 1em; padding-right: 1em; text-align: center; vertical-align: top\">521/162/533/68/80/140/826<br>/889/264/885/267/106/ ...</td>\n",
       "    </tr>\n",
       "    <tr>\n",
       "        <td style=\"padding-left: 1em; padding-right: 1em; text-align: center; vertical-align: top\">b2b0bf186c637e270c948c74f<br>56a12a2 ...</td>\n",
       "        <td style=\"padding-left: 1em; padding-right: 1em; text-align: center; vertical-align: top\">21/22</td>\n",
       "        <td style=\"padding-left: 1em; padding-right: 1em; text-align: center; vertical-align: top\">3375/133/2107/13247/13248<br>/13249 ...</td>\n",
       "        <td style=\"padding-left: 1em; padding-right: 1em; text-align: center; vertical-align: top\">1667/1389/212/213/468/145<br>5/616/2013/1165/333/2 ...</td>\n",
       "    </tr>\n",
       "</table>\n",
       "[28763 rows x 4 columns]<br/>Note: Only the head of the SFrame is printed.<br/>You can use print_rows(num_rows=m, num_columns=n) to print more rows and columns.\n",
       "</div>"
      ],
      "text/plain": [
       "Columns:\n",
       "\tuid\tstr\n",
       "\ttags\tstr\n",
       "\twords\tstr\n",
       "\tletters\tstr\n",
       "\n",
       "Rows: 28763\n",
       "\n",
       "Data:\n",
       "+-------------------------------+-------------+-------------------------------+\n",
       "|              uid              |     tags    |             words             |\n",
       "+-------------------------------+-------------+-------------------------------+\n",
       "| 61fa06d8908d0e4710a599f970... |     0/1     |  2327/1083/1083/344/3584/1634 |\n",
       "| 4588a1df2461674252ff01c63b... |  2/3/4/5/6  | 54/11880/113/13231/13232/1... |\n",
       "| e8a0f6906978da77dab3d1d779... |      7      | 45/13233/1871/13234/2182/3... |\n",
       "| ab01652daaa15bcbbb21b7c02a... |      8      |      76/13235/2149/13236      |\n",
       "| 4c3694faef04ea6cce28d9d838... |  9/10/11/12 |      9465/1492/1734/13237     |\n",
       "| de5ee6f16417420e8c6825061b... | 13/14/15/16 | 13238/574/6218/574/13239/5... |\n",
       "| 1942ce13dc97f455b9a477818e... |   2/3/4/17  |      238/6072/2816/13240      |\n",
       "| 051f10227083374795feec803e... |   18/19/20  | 7034/21/4977/2752/3027/150... |\n",
       "| 8f23f2630ad7656cb08a412ede... |     0/1     |   3344/238/13244/13245/13246  |\n",
       "| b2b0bf186c637e270c948c74f5... |    21/22    | 3375/133/2107/13247/13248/... |\n",
       "+-------------------------------+-------------+-------------------------------+\n",
       "+-------------------------------+\n",
       "|            letters            |\n",
       "+-------------------------------+\n",
       "| 608/182/441/182/441/441/44... |\n",
       "| 92/93/160/160/183/1022/102... |\n",
       "| 73/953/15/291/182/168/438/... |\n",
       "| 122/129/1571/1837/749/68/3... |\n",
       "|    93/1289/232/305/646/345    |\n",
       "| 650/2215/86/650/572/488/65... |\n",
       "| 68/80/142/49/413/246/422/6... |\n",
       "| 296/291/33/34/1198/453/60/... |\n",
       "| 521/162/533/68/80/140/826/... |\n",
       "| 1667/1389/212/213/468/1455... |\n",
       "+-------------------------------+\n",
       "[28763 rows x 4 columns]\n",
       "Note: Only the head of the SFrame is printed.\n",
       "You can use print_rows(num_rows=m, num_columns=n) to print more rows and columns."
      ]
     },
     "execution_count": 7,
     "metadata": {},
     "output_type": "execute_result"
    }
   ],
   "source": [
    "usf"
   ]
  },
  {
   "cell_type": "code",
   "execution_count": 15,
   "metadata": {
    "collapsed": false
   },
   "outputs": [
    {
     "data": {
      "text/html": [
       "<pre>Recsys training: model = factorization_recommender</pre>"
      ],
      "text/plain": [
       "Recsys training: model = factorization_recommender"
      ]
     },
     "metadata": {},
     "output_type": "display_data"
    },
    {
     "data": {
      "text/html": [
       "<pre>Preparing data set.</pre>"
      ],
      "text/plain": [
       "Preparing data set."
      ]
     },
     "metadata": {},
     "output_type": "display_data"
    },
    {
     "data": {
      "text/html": [
       "<pre>    Data has 245752 observations with 28763 users and 8095 items.</pre>"
      ],
      "text/plain": [
       "    Data has 245752 observations with 28763 users and 8095 items."
      ]
     },
     "metadata": {},
     "output_type": "display_data"
    },
    {
     "data": {
      "text/html": [
       "<pre>    Data prepared in: 0.341586s</pre>"
      ],
      "text/plain": [
       "    Data prepared in: 0.341586s"
      ]
     },
     "metadata": {},
     "output_type": "display_data"
    },
    {
     "data": {
      "text/html": [
       "<pre>Training factorization_recommender for recommendations.</pre>"
      ],
      "text/plain": [
       "Training factorization_recommender for recommendations."
      ]
     },
     "metadata": {},
     "output_type": "display_data"
    },
    {
     "data": {
      "text/html": [
       "<pre>+--------------------------------+--------------------------------------------------+----------+</pre>"
      ],
      "text/plain": [
       "+--------------------------------+--------------------------------------------------+----------+"
      ]
     },
     "metadata": {},
     "output_type": "display_data"
    },
    {
     "data": {
      "text/html": [
       "<pre>| Parameter                      | Description                                      | Value    |</pre>"
      ],
      "text/plain": [
       "| Parameter                      | Description                                      | Value    |"
      ]
     },
     "metadata": {},
     "output_type": "display_data"
    },
    {
     "data": {
      "text/html": [
       "<pre>+--------------------------------+--------------------------------------------------+----------+</pre>"
      ],
      "text/plain": [
       "+--------------------------------+--------------------------------------------------+----------+"
      ]
     },
     "metadata": {},
     "output_type": "display_data"
    },
    {
     "data": {
      "text/html": [
       "<pre>| num_factors                    | Factor Dimension                                 | 8        |</pre>"
      ],
      "text/plain": [
       "| num_factors                    | Factor Dimension                                 | 8        |"
      ]
     },
     "metadata": {},
     "output_type": "display_data"
    },
    {
     "data": {
      "text/html": [
       "<pre>| regularization                 | L2 Regularization on Factors                     | 1e-08    |</pre>"
      ],
      "text/plain": [
       "| regularization                 | L2 Regularization on Factors                     | 1e-08    |"
      ]
     },
     "metadata": {},
     "output_type": "display_data"
    },
    {
     "data": {
      "text/html": [
       "<pre>| solver                         | Solver used for training                         | adagrad  |</pre>"
      ],
      "text/plain": [
       "| solver                         | Solver used for training                         | adagrad  |"
      ]
     },
     "metadata": {},
     "output_type": "display_data"
    },
    {
     "data": {
      "text/html": [
       "<pre>| linear_regularization          | L2 Regularization on Linear Coefficients         | 1e-10    |</pre>"
      ],
      "text/plain": [
       "| linear_regularization          | L2 Regularization on Linear Coefficients         | 1e-10    |"
      ]
     },
     "metadata": {},
     "output_type": "display_data"
    },
    {
     "data": {
      "text/html": [
       "<pre>| side_data_factorization        | Assign Factors for Side Data                     | True     |</pre>"
      ],
      "text/plain": [
       "| side_data_factorization        | Assign Factors for Side Data                     | True     |"
      ]
     },
     "metadata": {},
     "output_type": "display_data"
    },
    {
     "data": {
      "text/html": [
       "<pre>| max_iterations                 | Maximum Number of Iterations                     | 50       |</pre>"
      ],
      "text/plain": [
       "| max_iterations                 | Maximum Number of Iterations                     | 50       |"
      ]
     },
     "metadata": {},
     "output_type": "display_data"
    },
    {
     "data": {
      "text/html": [
       "<pre>+--------------------------------+--------------------------------------------------+----------+</pre>"
      ],
      "text/plain": [
       "+--------------------------------+--------------------------------------------------+----------+"
      ]
     },
     "metadata": {},
     "output_type": "display_data"
    },
    {
     "data": {
      "text/html": [
       "<pre>  Optimizing model using SGD; tuning step size.</pre>"
      ],
      "text/plain": [
       "  Optimizing model using SGD; tuning step size."
      ]
     },
     "metadata": {},
     "output_type": "display_data"
    },
    {
     "data": {
      "text/html": [
       "<pre>  Using 30719 / 245752 points for tuning the step size.</pre>"
      ],
      "text/plain": [
       "  Using 30719 / 245752 points for tuning the step size."
      ]
     },
     "metadata": {},
     "output_type": "display_data"
    },
    {
     "data": {
      "text/html": [
       "<pre>+---------+-------------------+------------------------------------------+</pre>"
      ],
      "text/plain": [
       "+---------+-------------------+------------------------------------------+"
      ]
     },
     "metadata": {},
     "output_type": "display_data"
    },
    {
     "data": {
      "text/html": [
       "<pre>| Attempt | Initial Step Size | Estimated Objective Value                |</pre>"
      ],
      "text/plain": [
       "| Attempt | Initial Step Size | Estimated Objective Value                |"
      ]
     },
     "metadata": {},
     "output_type": "display_data"
    },
    {
     "data": {
      "text/html": [
       "<pre>+---------+-------------------+------------------------------------------+</pre>"
      ],
      "text/plain": [
       "+---------+-------------------+------------------------------------------+"
      ]
     },
     "metadata": {},
     "output_type": "display_data"
    },
    {
     "data": {
      "text/html": [
       "<pre>| 0       | 4.54545           | Not Viable                               |</pre>"
      ],
      "text/plain": [
       "| 0       | 4.54545           | Not Viable                               |"
      ]
     },
     "metadata": {},
     "output_type": "display_data"
    },
    {
     "data": {
      "text/html": [
       "<pre>| 1       | 1.13636           | Not Viable                               |</pre>"
      ],
      "text/plain": [
       "| 1       | 1.13636           | Not Viable                               |"
      ]
     },
     "metadata": {},
     "output_type": "display_data"
    },
    {
     "data": {
      "text/html": [
       "<pre>| 2       | 0.284091          | Not Viable                               |</pre>"
      ],
      "text/plain": [
       "| 2       | 0.284091          | Not Viable                               |"
      ]
     },
     "metadata": {},
     "output_type": "display_data"
    },
    {
     "data": {
      "text/html": [
       "<pre>| 3       | 0.0710227         | Not Viable                               |</pre>"
      ],
      "text/plain": [
       "| 3       | 0.0710227         | Not Viable                               |"
      ]
     },
     "metadata": {},
     "output_type": "display_data"
    },
    {
     "data": {
      "text/html": [
       "<pre>| 4       | 0.0177557         | 0.0124153                                |</pre>"
      ],
      "text/plain": [
       "| 4       | 0.0177557         | 0.0124153                                |"
      ]
     },
     "metadata": {},
     "output_type": "display_data"
    },
    {
     "data": {
      "text/html": [
       "<pre>| 5       | 0.00887784        | 0.0350611                                |</pre>"
      ],
      "text/plain": [
       "| 5       | 0.00887784        | 0.0350611                                |"
      ]
     },
     "metadata": {},
     "output_type": "display_data"
    },
    {
     "data": {
      "text/html": [
       "<pre>+---------+-------------------+------------------------------------------+</pre>"
      ],
      "text/plain": [
       "+---------+-------------------+------------------------------------------+"
      ]
     },
     "metadata": {},
     "output_type": "display_data"
    },
    {
     "data": {
      "text/html": [
       "<pre>| Final   | 0.0177557         | 0.0124153                                |</pre>"
      ],
      "text/plain": [
       "| Final   | 0.0177557         | 0.0124153                                |"
      ]
     },
     "metadata": {},
     "output_type": "display_data"
    },
    {
     "data": {
      "text/html": [
       "<pre>+---------+-------------------+------------------------------------------+</pre>"
      ],
      "text/plain": [
       "+---------+-------------------+------------------------------------------+"
      ]
     },
     "metadata": {},
     "output_type": "display_data"
    },
    {
     "data": {
      "text/html": [
       "<pre>Starting Optimization.</pre>"
      ],
      "text/plain": [
       "Starting Optimization."
      ]
     },
     "metadata": {},
     "output_type": "display_data"
    },
    {
     "data": {
      "text/html": [
       "<pre>+---------+--------------+-------------------+-----------------------+-------------+</pre>"
      ],
      "text/plain": [
       "+---------+--------------+-------------------+-----------------------+-------------+"
      ]
     },
     "metadata": {},
     "output_type": "display_data"
    },
    {
     "data": {
      "text/html": [
       "<pre>| Iter.   | Elapsed Time | Approx. Objective | Approx. Training RMSE | Step Size   |</pre>"
      ],
      "text/plain": [
       "| Iter.   | Elapsed Time | Approx. Objective | Approx. Training RMSE | Step Size   |"
      ]
     },
     "metadata": {},
     "output_type": "display_data"
    },
    {
     "data": {
      "text/html": [
       "<pre>+---------+--------------+-------------------+-----------------------+-------------+</pre>"
      ],
      "text/plain": [
       "+---------+--------------+-------------------+-----------------------+-------------+"
      ]
     },
     "metadata": {},
     "output_type": "display_data"
    },
    {
     "data": {
      "text/html": [
       "<pre>| Initial | 83us         | 0.0988204         | 0.314357              |             |</pre>"
      ],
      "text/plain": [
       "| Initial | 83us         | 0.0988204         | 0.314357              |             |"
      ]
     },
     "metadata": {},
     "output_type": "display_data"
    },
    {
     "data": {
      "text/html": [
       "<pre>+---------+--------------+-------------------+-----------------------+-------------+</pre>"
      ],
      "text/plain": [
       "+---------+--------------+-------------------+-----------------------+-------------+"
      ]
     },
     "metadata": {},
     "output_type": "display_data"
    },
    {
     "data": {
      "text/html": [
       "<pre>| 1       | 124.241ms    | 0.0777245         | 0.278781              | 0.0177557   |</pre>"
      ],
      "text/plain": [
       "| 1       | 124.241ms    | 0.0777245         | 0.278781              | 0.0177557   |"
      ]
     },
     "metadata": {},
     "output_type": "display_data"
    },
    {
     "data": {
      "text/html": [
       "<pre>| 2       | 290.525ms    | 0.0562291         | 0.237112              | 0.0177557   |</pre>"
      ],
      "text/plain": [
       "| 2       | 290.525ms    | 0.0562291         | 0.237112              | 0.0177557   |"
      ]
     },
     "metadata": {},
     "output_type": "display_data"
    },
    {
     "data": {
      "text/html": [
       "<pre>| 3       | 441.862ms    | 0.0489547         | 0.221238              | 0.0177557   |</pre>"
      ],
      "text/plain": [
       "| 3       | 441.862ms    | 0.0489547         | 0.221238              | 0.0177557   |"
      ]
     },
     "metadata": {},
     "output_type": "display_data"
    },
    {
     "data": {
      "text/html": [
       "<pre>| 4       | 591.443ms    | 0.0443257         | 0.210513              | 0.0177557   |</pre>"
      ],
      "text/plain": [
       "| 4       | 591.443ms    | 0.0443257         | 0.210513              | 0.0177557   |"
      ]
     },
     "metadata": {},
     "output_type": "display_data"
    },
    {
     "data": {
      "text/html": [
       "<pre>| 5       | 698.347ms    | 0.0408329         | 0.202044              | 0.0177557   |</pre>"
      ],
      "text/plain": [
       "| 5       | 698.347ms    | 0.0408329         | 0.202044              | 0.0177557   |"
      ]
     },
     "metadata": {},
     "output_type": "display_data"
    },
    {
     "data": {
      "text/html": [
       "<pre>| 6       | 824.218ms    | 0.0380617         | 0.195062              | 0.0177557   |</pre>"
      ],
      "text/plain": [
       "| 6       | 824.218ms    | 0.0380617         | 0.195062              | 0.0177557   |"
      ]
     },
     "metadata": {},
     "output_type": "display_data"
    },
    {
     "data": {
      "text/html": [
       "<pre>| 10      | 1.41s        | 0.0307219         | 0.17523               | 0.0177557   |</pre>"
      ],
      "text/plain": [
       "| 10      | 1.41s        | 0.0307219         | 0.17523               | 0.0177557   |"
      ]
     },
     "metadata": {},
     "output_type": "display_data"
    },
    {
     "data": {
      "text/html": [
       "<pre>| 11      | 1.55s        | 0.0294435         | 0.171541              | 0.0177557   |</pre>"
      ],
      "text/plain": [
       "| 11      | 1.55s        | 0.0294435         | 0.171541              | 0.0177557   |"
      ]
     },
     "metadata": {},
     "output_type": "display_data"
    },
    {
     "data": {
      "text/html": [
       "<pre>| 20      | 2.73s        | 0.0224068         | 0.149615              | 0.0177557   |</pre>"
      ],
      "text/plain": [
       "| 20      | 2.73s        | 0.0224068         | 0.149615              | 0.0177557   |"
      ]
     },
     "metadata": {},
     "output_type": "display_data"
    },
    {
     "data": {
      "text/html": [
       "<pre>| 30      | 4.05s        | 0.0187588         | 0.13687               | 0.0177557   |</pre>"
      ],
      "text/plain": [
       "| 30      | 4.05s        | 0.0187588         | 0.13687               | 0.0177557   |"
      ]
     },
     "metadata": {},
     "output_type": "display_data"
    },
    {
     "data": {
      "text/html": [
       "<pre>| 40      | 5.37s        | 0.0167273         | 0.129228              | 0.0177557   |</pre>"
      ],
      "text/plain": [
       "| 40      | 5.37s        | 0.0167273         | 0.129228              | 0.0177557   |"
      ]
     },
     "metadata": {},
     "output_type": "display_data"
    },
    {
     "data": {
      "text/html": [
       "<pre>| 50      | 6.84s        | 0.0154456         | 0.124163              | 0.0177557   |</pre>"
      ],
      "text/plain": [
       "| 50      | 6.84s        | 0.0154456         | 0.124163              | 0.0177557   |"
      ]
     },
     "metadata": {},
     "output_type": "display_data"
    },
    {
     "data": {
      "text/html": [
       "<pre>+---------+--------------+-------------------+-----------------------+-------------+</pre>"
      ],
      "text/plain": [
       "+---------+--------------+-------------------+-----------------------+-------------+"
      ]
     },
     "metadata": {},
     "output_type": "display_data"
    },
    {
     "data": {
      "text/html": [
       "<pre>Optimization Complete: Maximum number of passes through the data reached.</pre>"
      ],
      "text/plain": [
       "Optimization Complete: Maximum number of passes through the data reached."
      ]
     },
     "metadata": {},
     "output_type": "display_data"
    },
    {
     "data": {
      "text/html": [
       "<pre>Computing final objective value and training RMSE.</pre>"
      ],
      "text/plain": [
       "Computing final objective value and training RMSE."
      ]
     },
     "metadata": {},
     "output_type": "display_data"
    },
    {
     "data": {
      "text/html": [
       "<pre>       Final objective value: 0.0144859</pre>"
      ],
      "text/plain": [
       "       Final objective value: 0.0144859"
      ]
     },
     "metadata": {},
     "output_type": "display_data"
    },
    {
     "data": {
      "text/html": [
       "<pre>       Final training RMSE: 0.120237</pre>"
      ],
      "text/plain": [
       "       Final training RMSE: 0.120237"
      ]
     },
     "metadata": {},
     "output_type": "display_data"
    }
   ],
   "source": [
    "model = gl.recommender.create(observation_data=tsf,user_id='uid',item_id='qid',target='value',user_data=usf,item_data=qsf,ranking=False)\n"
   ]
  },
  {
   "cell_type": "code",
   "execution_count": 16,
   "metadata": {
    "collapsed": false
   },
   "outputs": [
    {
     "name": "stdout",
     "output_type": "stream",
     "text": [
      "Canvas is accessible via web browser at the URL: http://localhost:51995/index.html\n",
      "Opening Canvas in default web browser.\n"
     ]
    }
   ],
   "source": [
    "model.show()\n"
   ]
  },
  {
   "cell_type": "code",
   "execution_count": 18,
   "metadata": {
    "collapsed": false
   },
   "outputs": [],
   "source": [
    "rrr =model.predict(dataset=testsf)"
   ]
  },
  {
   "cell_type": "code",
   "execution_count": 19,
   "metadata": {
    "collapsed": false
   },
   "outputs": [
    {
     "data": {
      "text/plain": [
       "graphlab.data_structures.sarray.SArray"
      ]
     },
     "execution_count": 19,
     "metadata": {},
     "output_type": "execute_result"
    }
   ],
   "source": [
    "type(rrr)"
   ]
  },
  {
   "cell_type": "code",
   "execution_count": 20,
   "metadata": {
    "collapsed": false
   },
   "outputs": [
    {
     "data": {
      "text/plain": [
       "dtype: float\n",
       "Rows: 30466\n",
       "[-0.01602826744494884, -0.017405439046664223, 0.9059775544114639, -0.024661151165009762, 0.9765575715386161, 0.32686103468108, 0.006373468534246307, -0.031916062035183435, -0.08460468527580262, 0.25825280560883135, -0.06329914719258686, 0.013166477339781074, 0.011138536814124689, -0.08999201200078649, 0.1971509337923295, 1.3130085821772166, 0.19513187011375355, 0.10030764235951184, 0.11111418843709975, -0.23080729533059507, 0.030281291828154033, 0.32382271060691187, 0.10840941585741332, 0.32448380697548207, -0.2511514760585499, -0.03021666239278828, -0.022609724017845362, -0.03476073406187738, -0.07988928481938787, -0.0027600284933105013, 0.010405379662029868, -0.010657345185783429, -0.02204908980797049, -0.02173883939800253, 0.6251609492932836, 0.12851014092508778, -0.012489708104324537, -0.330549283932255, 0.9645350897871615, -0.006269868646505777, 0.06870504099784625, 0.07710176589587084, 0.15421223526398714, 0.21709997105899712, 0.06460274090143503, 0.0030403750341417186, 0.044609175657714634, -0.01983268181381087, 0.006899996497115007, -0.006638466347252819, -0.06290046498025821, 0.018857899031420905, -0.00468291011511987, -0.062197471443960456, 0.14316367551446177, 0.22695753225608956, -0.023117678795909313, 0.1926353027448307, -0.25156231952102626, -0.03297038365909272, 0.20870362586691346, 0.1791368194371209, 0.5702331774360692, 0.7311152767335479, 0.11702471220374139, -0.07115324463496374, 0.07217654365375736, 0.05118076696739121, -0.026376004284764998, -0.37402795172834935, 0.179937952583199, -0.020285387465857257, 0.11076243446096845, -0.0038178173496791756, 0.1056225816484293, -0.11960760232436651, 0.07722385781767205, 0.19207979707021317, -0.05286921299952521, 0.06075946272248692, -0.03272853620889404, 0.27329911477253654, 0.0546871007873871, -0.004763280779806228, -0.0043902349678611174, 0.12303065886912817, 0.6354355758035927, -0.04391263872338569, 0.020497283247518205, 0.034284694293285345, -0.009284243133334757, -0.003603176893326218, -0.008321178885849823, -0.004051757114059029, 0.007447542425946557, 0.03736875653627883, 0.06261930800660623, 0.39193450238225325, 0.041571952270076706, 0.15262254007079745, ... ]"
      ]
     },
     "execution_count": 20,
     "metadata": {},
     "output_type": "execute_result"
    }
   ],
   "source": [
    "rrr"
   ]
  },
  {
   "cell_type": "code",
   "execution_count": 21,
   "metadata": {
    "collapsed": false
   },
   "outputs": [
    {
     "ename": "AttributeError",
     "evalue": "'module' object has no attribute 'numpy'",
     "output_type": "error",
     "traceback": [
      "\u001b[0;31m---------------------------------------------------------------------------\u001b[0m",
      "\u001b[0;31mAttributeError\u001b[0m                            Traceback (most recent call last)",
      "\u001b[0;32m<ipython-input-21-3b42b5b4fe45>\u001b[0m in \u001b[0;36m<module>\u001b[0;34m()\u001b[0m\n\u001b[0;32m----> 1\u001b[0;31m \u001b[0mrt\u001b[0m \u001b[0;34m=\u001b[0m \u001b[0mgl\u001b[0m\u001b[0;34m.\u001b[0m\u001b[0mnumpy\u001b[0m\u001b[0;34m.\u001b[0m\u001b[0marray\u001b[0m\u001b[0;34m(\u001b[0m\u001b[0mrrr\u001b[0m\u001b[0;34m)\u001b[0m\u001b[0;34m\u001b[0m\u001b[0m\n\u001b[0m",
      "\u001b[0;31mAttributeError\u001b[0m: 'module' object has no attribute 'numpy'"
     ]
    }
   ],
   "source": [
    "rt = gl.numpy.array(rrr)"
   ]
  },
  {
   "cell_type": "code",
   "execution_count": 22,
   "metadata": {
    "collapsed": false
   },
   "outputs": [
    {
     "name": "stdout",
     "output_type": "stream",
     "text": [
      "Scalable Numpy Activation Successful\n"
     ]
    }
   ],
   "source": [
    "import graphlab.numpy"
   ]
  },
  {
   "cell_type": "code",
   "execution_count": 23,
   "metadata": {
    "collapsed": true
   },
   "outputs": [],
   "source": [
    "rt = graphlab.numpy.array(rrr)"
   ]
  },
  {
   "cell_type": "code",
   "execution_count": 24,
   "metadata": {
    "collapsed": false
   },
   "outputs": [
    {
     "data": {
      "text/plain": [
       "array([-0.01602827, -0.01740544,  0.90597755, ..., -0.01111612,\n",
       "       -0.03745125, -0.01254126])"
      ]
     },
     "execution_count": 24,
     "metadata": {},
     "output_type": "execute_result"
    }
   ],
   "source": [
    "rt"
   ]
  },
  {
   "cell_type": "code",
   "execution_count": null,
   "metadata": {
    "collapsed": true
   },
   "outputs": [],
   "source": []
  }
 ],
 "metadata": {
  "kernelspec": {
   "display_name": "Python 2",
   "language": "python",
   "name": "python2"
  },
  "language_info": {
   "codemirror_mode": {
    "name": "ipython",
    "version": 2
   },
   "file_extension": ".py",
   "mimetype": "text/x-python",
   "name": "python",
   "nbconvert_exporter": "python",
   "pygments_lexer": "ipython2",
   "version": "2.7.11"
  }
 },
 "nbformat": 4,
 "nbformat_minor": 0
}
